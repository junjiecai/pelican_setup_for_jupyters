{
 "cells": [
  {
   "cell_type": "markdown",
   "metadata": {},
   "source": [
    "## 关于我\n",
    "Hi，欢迎来到我的小站。\n",
    "\n",
    "我是一名生活在上海的工程师名叫蔡俊杰，目前正效力于上海森亿，将AI技术融入医疗，提高医疗的效能。\n",
    "\n",
    "开发对我而言，即是工作也是爱好，欢迎同道一起交流：）除此之外，喜欢看看动漫和做菜。\n",
    "\n",
    "我的邮箱是[exolution@outlook.com]\n",
    "\n",
    "我的微信:\n",
    "![wechat](\"wechat.jpeg)\n",
    "\n",
    "\n",
    "## 关于本站用\n",
    "本站的技术文章都是由pelcian直接将jupyter notebook处理成blog html后发布在gitpages上。如果你也对用Jupyter写Blog感兴趣，欢迎去看看我的[这个项目](https://github.com/junjiecai/pelican_setup_for_jupyters)"
   ]
  }
 ],
 "metadata": {
  "kernelspec": {
   "display_name": "Python 3",
   "language": "python",
   "name": "python3"
  },
  "language_info": {
   "codemirror_mode": {
    "name": "ipython",
    "version": 3
   },
   "file_extension": ".py",
   "mimetype": "text/x-python",
   "name": "python",
   "nbconvert_exporter": "python",
   "pygments_lexer": "ipython3",
   "version": "3.6.5"
  }
 },
 "nbformat": 4,
 "nbformat_minor": 2
}
